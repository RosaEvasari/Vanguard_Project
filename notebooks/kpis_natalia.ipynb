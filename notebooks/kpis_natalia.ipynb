{
 "cells": [
  {
   "cell_type": "code",
   "execution_count": 6,
   "metadata": {},
   "outputs": [
    {
     "name": "stdout",
     "output_type": "stream",
     "text": [
      "Libraries imported successfully!\n"
     ]
    }
   ],
   "source": [
    "# Importing the libraries\n",
    "import pandas as pd\n",
    "import numpy as np\n",
    "import seaborn as sns\n",
    "import matplotlib.pyplot as plt\n",
    "import plotly.express as px\n",
    "from sklearn import datasets, model_selection, metrics\n",
    "import scipy as sp\n",
    "\n",
    "from functions_natalia import * \n",
    "\n",
    "# Print a confirmation message\n",
    "print(\"Libraries imported successfully!\")"
   ]
  },
  {
   "cell_type": "code",
   "execution_count": 7,
   "metadata": {},
   "outputs": [
    {
     "data": {
      "text/html": [
       "<div>\n",
       "<style scoped>\n",
       "    .dataframe tbody tr th:only-of-type {\n",
       "        vertical-align: middle;\n",
       "    }\n",
       "\n",
       "    .dataframe tbody tr th {\n",
       "        vertical-align: top;\n",
       "    }\n",
       "\n",
       "    .dataframe thead th {\n",
       "        text-align: right;\n",
       "    }\n",
       "</style>\n",
       "<table border=\"1\" class=\"dataframe\">\n",
       "  <thead>\n",
       "    <tr style=\"text-align: right;\">\n",
       "      <th></th>\n",
       "      <th>client_id</th>\n",
       "      <th>tenure_year</th>\n",
       "      <th>tenure_month</th>\n",
       "      <th>age</th>\n",
       "      <th>gender</th>\n",
       "      <th>number_of_accounts</th>\n",
       "      <th>balance</th>\n",
       "      <th>calls_6_month</th>\n",
       "      <th>logons_6_month</th>\n",
       "    </tr>\n",
       "  </thead>\n",
       "  <tbody>\n",
       "    <tr>\n",
       "      <th>0</th>\n",
       "      <td>836976</td>\n",
       "      <td>6.0</td>\n",
       "      <td>73.0</td>\n",
       "      <td>60.5</td>\n",
       "      <td>U</td>\n",
       "      <td>2</td>\n",
       "      <td>45105.30</td>\n",
       "      <td>6</td>\n",
       "      <td>9</td>\n",
       "    </tr>\n",
       "    <tr>\n",
       "      <th>1</th>\n",
       "      <td>2304905</td>\n",
       "      <td>7.0</td>\n",
       "      <td>94.0</td>\n",
       "      <td>58.0</td>\n",
       "      <td>U</td>\n",
       "      <td>2</td>\n",
       "      <td>110860.30</td>\n",
       "      <td>6</td>\n",
       "      <td>9</td>\n",
       "    </tr>\n",
       "    <tr>\n",
       "      <th>2</th>\n",
       "      <td>1439522</td>\n",
       "      <td>5.0</td>\n",
       "      <td>64.0</td>\n",
       "      <td>32.0</td>\n",
       "      <td>U</td>\n",
       "      <td>2</td>\n",
       "      <td>52467.79</td>\n",
       "      <td>6</td>\n",
       "      <td>9</td>\n",
       "    </tr>\n",
       "    <tr>\n",
       "      <th>3</th>\n",
       "      <td>1562045</td>\n",
       "      <td>16.0</td>\n",
       "      <td>198.0</td>\n",
       "      <td>49.0</td>\n",
       "      <td>M</td>\n",
       "      <td>2</td>\n",
       "      <td>67454.65</td>\n",
       "      <td>3</td>\n",
       "      <td>6</td>\n",
       "    </tr>\n",
       "    <tr>\n",
       "      <th>4</th>\n",
       "      <td>5126305</td>\n",
       "      <td>12.0</td>\n",
       "      <td>145.0</td>\n",
       "      <td>33.0</td>\n",
       "      <td>F</td>\n",
       "      <td>2</td>\n",
       "      <td>103671.75</td>\n",
       "      <td>0</td>\n",
       "      <td>3</td>\n",
       "    </tr>\n",
       "  </tbody>\n",
       "</table>\n",
       "</div>"
      ],
      "text/plain": [
       "   client_id  tenure_year  tenure_month   age gender  number_of_accounts  \\\n",
       "0     836976          6.0          73.0  60.5      U                   2   \n",
       "1    2304905          7.0          94.0  58.0      U                   2   \n",
       "2    1439522          5.0          64.0  32.0      U                   2   \n",
       "3    1562045         16.0         198.0  49.0      M                   2   \n",
       "4    5126305         12.0         145.0  33.0      F                   2   \n",
       "\n",
       "     balance  calls_6_month  logons_6_month  \n",
       "0   45105.30              6               9  \n",
       "1  110860.30              6               9  \n",
       "2   52467.79              6               9  \n",
       "3   67454.65              3               6  \n",
       "4  103671.75              0               3  "
      ]
     },
     "execution_count": 7,
     "metadata": {},
     "output_type": "execute_result"
    }
   ],
   "source": [
    "df_demo = pd.read_csv('../data/cleaned/df_final_demo_cleaned.csv')\n",
    "df_demo.head()"
   ]
  },
  {
   "cell_type": "code",
   "execution_count": 8,
   "metadata": {},
   "outputs": [
    {
     "data": {
      "text/html": [
       "<div>\n",
       "<style scoped>\n",
       "    .dataframe tbody tr th:only-of-type {\n",
       "        vertical-align: middle;\n",
       "    }\n",
       "\n",
       "    .dataframe tbody tr th {\n",
       "        vertical-align: top;\n",
       "    }\n",
       "\n",
       "    .dataframe thead th {\n",
       "        text-align: right;\n",
       "    }\n",
       "</style>\n",
       "<table border=\"1\" class=\"dataframe\">\n",
       "  <thead>\n",
       "    <tr style=\"text-align: right;\">\n",
       "      <th></th>\n",
       "      <th>client_id</th>\n",
       "      <th>variation</th>\n",
       "    </tr>\n",
       "  </thead>\n",
       "  <tbody>\n",
       "    <tr>\n",
       "      <th>0</th>\n",
       "      <td>9988021</td>\n",
       "      <td>Test</td>\n",
       "    </tr>\n",
       "    <tr>\n",
       "      <th>1</th>\n",
       "      <td>8320017</td>\n",
       "      <td>Test</td>\n",
       "    </tr>\n",
       "    <tr>\n",
       "      <th>2</th>\n",
       "      <td>4033851</td>\n",
       "      <td>Control</td>\n",
       "    </tr>\n",
       "    <tr>\n",
       "      <th>3</th>\n",
       "      <td>1982004</td>\n",
       "      <td>Test</td>\n",
       "    </tr>\n",
       "    <tr>\n",
       "      <th>4</th>\n",
       "      <td>9294070</td>\n",
       "      <td>Control</td>\n",
       "    </tr>\n",
       "  </tbody>\n",
       "</table>\n",
       "</div>"
      ],
      "text/plain": [
       "   client_id variation\n",
       "0    9988021      Test\n",
       "1    8320017      Test\n",
       "2    4033851   Control\n",
       "3    1982004      Test\n",
       "4    9294070   Control"
      ]
     },
     "execution_count": 8,
     "metadata": {},
     "output_type": "execute_result"
    }
   ],
   "source": [
    "df_experiment = pd.read_csv('../data/cleaned/df_final_experiment_clients_cleaned.csv')\n",
    "df_experiment.head()"
   ]
  },
  {
   "cell_type": "code",
   "execution_count": 9,
   "metadata": {},
   "outputs": [
    {
     "data": {
      "text/html": [
       "<div>\n",
       "<style scoped>\n",
       "    .dataframe tbody tr th:only-of-type {\n",
       "        vertical-align: middle;\n",
       "    }\n",
       "\n",
       "    .dataframe tbody tr th {\n",
       "        vertical-align: top;\n",
       "    }\n",
       "\n",
       "    .dataframe thead th {\n",
       "        text-align: right;\n",
       "    }\n",
       "</style>\n",
       "<table border=\"1\" class=\"dataframe\">\n",
       "  <thead>\n",
       "    <tr style=\"text-align: right;\">\n",
       "      <th></th>\n",
       "      <th>client_id</th>\n",
       "      <th>visitor_id</th>\n",
       "      <th>visit_id</th>\n",
       "      <th>process_step</th>\n",
       "      <th>date_time</th>\n",
       "    </tr>\n",
       "  </thead>\n",
       "  <tbody>\n",
       "    <tr>\n",
       "      <th>0</th>\n",
       "      <td>9988021</td>\n",
       "      <td>580560515_7732621733</td>\n",
       "      <td>781255054_21935453173_531117</td>\n",
       "      <td>step_3</td>\n",
       "      <td>2017-04-17 15:27:07</td>\n",
       "    </tr>\n",
       "    <tr>\n",
       "      <th>1</th>\n",
       "      <td>9988021</td>\n",
       "      <td>580560515_7732621733</td>\n",
       "      <td>781255054_21935453173_531117</td>\n",
       "      <td>step_2</td>\n",
       "      <td>2017-04-17 15:26:51</td>\n",
       "    </tr>\n",
       "    <tr>\n",
       "      <th>2</th>\n",
       "      <td>9988021</td>\n",
       "      <td>580560515_7732621733</td>\n",
       "      <td>781255054_21935453173_531117</td>\n",
       "      <td>step_3</td>\n",
       "      <td>2017-04-17 15:19:22</td>\n",
       "    </tr>\n",
       "    <tr>\n",
       "      <th>3</th>\n",
       "      <td>9988021</td>\n",
       "      <td>580560515_7732621733</td>\n",
       "      <td>781255054_21935453173_531117</td>\n",
       "      <td>step_2</td>\n",
       "      <td>2017-04-17 15:19:13</td>\n",
       "    </tr>\n",
       "    <tr>\n",
       "      <th>4</th>\n",
       "      <td>9988021</td>\n",
       "      <td>580560515_7732621733</td>\n",
       "      <td>781255054_21935453173_531117</td>\n",
       "      <td>step_3</td>\n",
       "      <td>2017-04-17 15:18:04</td>\n",
       "    </tr>\n",
       "  </tbody>\n",
       "</table>\n",
       "</div>"
      ],
      "text/plain": [
       "   client_id            visitor_id                      visit_id process_step  \\\n",
       "0    9988021  580560515_7732621733  781255054_21935453173_531117       step_3   \n",
       "1    9988021  580560515_7732621733  781255054_21935453173_531117       step_2   \n",
       "2    9988021  580560515_7732621733  781255054_21935453173_531117       step_3   \n",
       "3    9988021  580560515_7732621733  781255054_21935453173_531117       step_2   \n",
       "4    9988021  580560515_7732621733  781255054_21935453173_531117       step_3   \n",
       "\n",
       "             date_time  \n",
       "0  2017-04-17 15:27:07  \n",
       "1  2017-04-17 15:26:51  \n",
       "2  2017-04-17 15:19:22  \n",
       "3  2017-04-17 15:19:13  \n",
       "4  2017-04-17 15:18:04  "
      ]
     },
     "execution_count": 9,
     "metadata": {},
     "output_type": "execute_result"
    }
   ],
   "source": [
    "df_web = pd.read_csv('../data/cleaned/df_final_web_data_cleaned.csv')\n",
    "df_web.head()"
   ]
  },
  {
   "cell_type": "markdown",
   "metadata": {},
   "source": [
    "## Convert date_time in correct format"
   ]
  },
  {
   "cell_type": "code",
   "execution_count": 10,
   "metadata": {},
   "outputs": [
    {
     "data": {
      "text/html": [
       "<div>\n",
       "<style scoped>\n",
       "    .dataframe tbody tr th:only-of-type {\n",
       "        vertical-align: middle;\n",
       "    }\n",
       "\n",
       "    .dataframe tbody tr th {\n",
       "        vertical-align: top;\n",
       "    }\n",
       "\n",
       "    .dataframe thead th {\n",
       "        text-align: right;\n",
       "    }\n",
       "</style>\n",
       "<table border=\"1\" class=\"dataframe\">\n",
       "  <thead>\n",
       "    <tr style=\"text-align: right;\">\n",
       "      <th></th>\n",
       "      <th>client_id</th>\n",
       "      <th>visitor_id</th>\n",
       "      <th>visit_id</th>\n",
       "      <th>process_step</th>\n",
       "      <th>date_time_new</th>\n",
       "    </tr>\n",
       "  </thead>\n",
       "  <tbody>\n",
       "    <tr>\n",
       "      <th>0</th>\n",
       "      <td>9988021</td>\n",
       "      <td>580560515_7732621733</td>\n",
       "      <td>781255054_21935453173_531117</td>\n",
       "      <td>step_3</td>\n",
       "      <td>2017-04-17 15:27:07</td>\n",
       "    </tr>\n",
       "    <tr>\n",
       "      <th>1</th>\n",
       "      <td>9988021</td>\n",
       "      <td>580560515_7732621733</td>\n",
       "      <td>781255054_21935453173_531117</td>\n",
       "      <td>step_2</td>\n",
       "      <td>2017-04-17 15:26:51</td>\n",
       "    </tr>\n",
       "    <tr>\n",
       "      <th>2</th>\n",
       "      <td>9988021</td>\n",
       "      <td>580560515_7732621733</td>\n",
       "      <td>781255054_21935453173_531117</td>\n",
       "      <td>step_3</td>\n",
       "      <td>2017-04-17 15:19:22</td>\n",
       "    </tr>\n",
       "    <tr>\n",
       "      <th>3</th>\n",
       "      <td>9988021</td>\n",
       "      <td>580560515_7732621733</td>\n",
       "      <td>781255054_21935453173_531117</td>\n",
       "      <td>step_2</td>\n",
       "      <td>2017-04-17 15:19:13</td>\n",
       "    </tr>\n",
       "    <tr>\n",
       "      <th>4</th>\n",
       "      <td>9988021</td>\n",
       "      <td>580560515_7732621733</td>\n",
       "      <td>781255054_21935453173_531117</td>\n",
       "      <td>step_3</td>\n",
       "      <td>2017-04-17 15:18:04</td>\n",
       "    </tr>\n",
       "    <tr>\n",
       "      <th>5</th>\n",
       "      <td>9988021</td>\n",
       "      <td>580560515_7732621733</td>\n",
       "      <td>781255054_21935453173_531117</td>\n",
       "      <td>step_2</td>\n",
       "      <td>2017-04-17 15:17:15</td>\n",
       "    </tr>\n",
       "    <tr>\n",
       "      <th>6</th>\n",
       "      <td>9988021</td>\n",
       "      <td>580560515_7732621733</td>\n",
       "      <td>781255054_21935453173_531117</td>\n",
       "      <td>step_1</td>\n",
       "      <td>2017-04-17 15:17:01</td>\n",
       "    </tr>\n",
       "    <tr>\n",
       "      <th>7</th>\n",
       "      <td>9988021</td>\n",
       "      <td>580560515_7732621733</td>\n",
       "      <td>781255054_21935453173_531117</td>\n",
       "      <td>start</td>\n",
       "      <td>2017-04-17 15:16:22</td>\n",
       "    </tr>\n",
       "    <tr>\n",
       "      <th>8</th>\n",
       "      <td>8320017</td>\n",
       "      <td>39393514_33118319366</td>\n",
       "      <td>960651974_70596002104_312201</td>\n",
       "      <td>confirm</td>\n",
       "      <td>2017-04-05 13:10:05</td>\n",
       "    </tr>\n",
       "    <tr>\n",
       "      <th>9</th>\n",
       "      <td>8320017</td>\n",
       "      <td>39393514_33118319366</td>\n",
       "      <td>960651974_70596002104_312201</td>\n",
       "      <td>step_3</td>\n",
       "      <td>2017-04-05 13:09:43</td>\n",
       "    </tr>\n",
       "    <tr>\n",
       "      <th>10</th>\n",
       "      <td>8320017</td>\n",
       "      <td>39393514_33118319366</td>\n",
       "      <td>960651974_70596002104_312201</td>\n",
       "      <td>step_2</td>\n",
       "      <td>2017-04-05 13:08:40</td>\n",
       "    </tr>\n",
       "    <tr>\n",
       "      <th>11</th>\n",
       "      <td>8320017</td>\n",
       "      <td>39393514_33118319366</td>\n",
       "      <td>960651974_70596002104_312201</td>\n",
       "      <td>step_1</td>\n",
       "      <td>2017-04-05 13:08:24</td>\n",
       "    </tr>\n",
       "    <tr>\n",
       "      <th>12</th>\n",
       "      <td>8320017</td>\n",
       "      <td>39393514_33118319366</td>\n",
       "      <td>960651974_70596002104_312201</td>\n",
       "      <td>start</td>\n",
       "      <td>2017-04-05 13:08:06</td>\n",
       "    </tr>\n",
       "    <tr>\n",
       "      <th>13</th>\n",
       "      <td>4033851</td>\n",
       "      <td>762728880_76361333336</td>\n",
       "      <td>949661017_22392791362_127391</td>\n",
       "      <td>confirm</td>\n",
       "      <td>2017-04-05 12:29:03</td>\n",
       "    </tr>\n",
       "    <tr>\n",
       "      <th>14</th>\n",
       "      <td>4033851</td>\n",
       "      <td>762728880_76361333336</td>\n",
       "      <td>949661017_22392791362_127391</td>\n",
       "      <td>confirm</td>\n",
       "      <td>2017-04-05 12:29:01</td>\n",
       "    </tr>\n",
       "    <tr>\n",
       "      <th>15</th>\n",
       "      <td>4033851</td>\n",
       "      <td>762728880_76361333336</td>\n",
       "      <td>949661017_22392791362_127391</td>\n",
       "      <td>confirm</td>\n",
       "      <td>2017-04-05 12:28:52</td>\n",
       "    </tr>\n",
       "    <tr>\n",
       "      <th>16</th>\n",
       "      <td>4033851</td>\n",
       "      <td>762728880_76361333336</td>\n",
       "      <td>949661017_22392791362_127391</td>\n",
       "      <td>step_3</td>\n",
       "      <td>2017-04-05 12:26:08</td>\n",
       "    </tr>\n",
       "    <tr>\n",
       "      <th>17</th>\n",
       "      <td>4033851</td>\n",
       "      <td>762728880_76361333336</td>\n",
       "      <td>949661017_22392791362_127391</td>\n",
       "      <td>step_2</td>\n",
       "      <td>2017-04-05 12:24:43</td>\n",
       "    </tr>\n",
       "    <tr>\n",
       "      <th>18</th>\n",
       "      <td>4033851</td>\n",
       "      <td>762728880_76361333336</td>\n",
       "      <td>949661017_22392791362_127391</td>\n",
       "      <td>step_1</td>\n",
       "      <td>2017-04-05 12:24:12</td>\n",
       "    </tr>\n",
       "    <tr>\n",
       "      <th>19</th>\n",
       "      <td>4033851</td>\n",
       "      <td>762728880_76361333336</td>\n",
       "      <td>949661017_22392791362_127391</td>\n",
       "      <td>start</td>\n",
       "      <td>2017-04-05 12:24:04</td>\n",
       "    </tr>\n",
       "  </tbody>\n",
       "</table>\n",
       "</div>"
      ],
      "text/plain": [
       "    client_id             visitor_id                      visit_id  \\\n",
       "0     9988021   580560515_7732621733  781255054_21935453173_531117   \n",
       "1     9988021   580560515_7732621733  781255054_21935453173_531117   \n",
       "2     9988021   580560515_7732621733  781255054_21935453173_531117   \n",
       "3     9988021   580560515_7732621733  781255054_21935453173_531117   \n",
       "4     9988021   580560515_7732621733  781255054_21935453173_531117   \n",
       "5     9988021   580560515_7732621733  781255054_21935453173_531117   \n",
       "6     9988021   580560515_7732621733  781255054_21935453173_531117   \n",
       "7     9988021   580560515_7732621733  781255054_21935453173_531117   \n",
       "8     8320017   39393514_33118319366  960651974_70596002104_312201   \n",
       "9     8320017   39393514_33118319366  960651974_70596002104_312201   \n",
       "10    8320017   39393514_33118319366  960651974_70596002104_312201   \n",
       "11    8320017   39393514_33118319366  960651974_70596002104_312201   \n",
       "12    8320017   39393514_33118319366  960651974_70596002104_312201   \n",
       "13    4033851  762728880_76361333336  949661017_22392791362_127391   \n",
       "14    4033851  762728880_76361333336  949661017_22392791362_127391   \n",
       "15    4033851  762728880_76361333336  949661017_22392791362_127391   \n",
       "16    4033851  762728880_76361333336  949661017_22392791362_127391   \n",
       "17    4033851  762728880_76361333336  949661017_22392791362_127391   \n",
       "18    4033851  762728880_76361333336  949661017_22392791362_127391   \n",
       "19    4033851  762728880_76361333336  949661017_22392791362_127391   \n",
       "\n",
       "   process_step       date_time_new  \n",
       "0        step_3 2017-04-17 15:27:07  \n",
       "1        step_2 2017-04-17 15:26:51  \n",
       "2        step_3 2017-04-17 15:19:22  \n",
       "3        step_2 2017-04-17 15:19:13  \n",
       "4        step_3 2017-04-17 15:18:04  \n",
       "5        step_2 2017-04-17 15:17:15  \n",
       "6        step_1 2017-04-17 15:17:01  \n",
       "7         start 2017-04-17 15:16:22  \n",
       "8       confirm 2017-04-05 13:10:05  \n",
       "9        step_3 2017-04-05 13:09:43  \n",
       "10       step_2 2017-04-05 13:08:40  \n",
       "11       step_1 2017-04-05 13:08:24  \n",
       "12        start 2017-04-05 13:08:06  \n",
       "13      confirm 2017-04-05 12:29:03  \n",
       "14      confirm 2017-04-05 12:29:01  \n",
       "15      confirm 2017-04-05 12:28:52  \n",
       "16       step_3 2017-04-05 12:26:08  \n",
       "17       step_2 2017-04-05 12:24:43  \n",
       "18       step_1 2017-04-05 12:24:12  \n",
       "19        start 2017-04-05 12:24:04  "
      ]
     },
     "execution_count": 10,
     "metadata": {},
     "output_type": "execute_result"
    }
   ],
   "source": [
    "def separate_and_concat_date_time(df):\n",
    "    # Convert date_time column to datetime format\n",
    "    df['date_time'] = pd.to_datetime(df['date_time'])\n",
    "    \n",
    "    # Extract date and time into separate columns\n",
    "    df['date'] = df['date_time'].dt.date\n",
    "    df['time'] = df['date_time'].dt.time\n",
    "    \n",
    "    # Concatenate date and time back into date_time\n",
    "    df['date'] = pd.to_datetime(df['date'])\n",
    "    df['time'] = pd.to_datetime(df['time'], format='%H:%M:%S').dt.time\n",
    "    df['date_time_new'] = pd.to_datetime(df['date'].astype(str) + ' ' + df['time'].astype(str))\n",
    "\n",
    "    # Drop the intermediate date and time columns\n",
    "    df = df.drop(columns=['date', 'time', 'date_time'])\n",
    "    \n",
    "    return df.head(20)\n",
    "\n",
    "separate_and_concat_date_time(df_web)"
   ]
  },
  {
   "cell_type": "markdown",
   "metadata": {},
   "source": [
    "## Calculate the total time spent by session"
   ]
  },
  {
   "cell_type": "code",
   "execution_count": 11,
   "metadata": {},
   "outputs": [
    {
     "data": {
      "text/plain": [
       "Timedelta('97 days 23:24:52')"
      ]
     },
     "execution_count": 11,
     "metadata": {},
     "output_type": "execute_result"
    }
   ],
   "source": [
    "# Define a function to calculate the time difference\n",
    "def calculate_time_diff(df_web):\n",
    "    start_time = df_web.loc[df_web['process_step'] == 'start', 'date_time'].min()\n",
    "    confirm_time = df_web.loc[df_web['process_step'] == 'confirm', 'date_time'].max()\n",
    "    if pd.isna(start_time) or pd.isna(confirm_time):\n",
    "        return pd.Timedelta(0)\n",
    "    total_time_spent = confirm_time - start_time \n",
    "    return total_time_spent\n",
    "\n",
    "calculate_time_diff(df_web)"
   ]
  },
  {
   "cell_type": "markdown",
   "metadata": {},
   "source": [
    "## Group by 'client_id','visitor_id', 'visit_id'"
   ]
  },
  {
   "cell_type": "code",
   "execution_count": 16,
   "metadata": {},
   "outputs": [
    {
     "name": "stderr",
     "output_type": "stream",
     "text": [
      "/var/folders/76/0pntsdld7bg_p5gzgms4gghw0000gn/T/ipykernel_81311/4174502837.py:7: DeprecationWarning: DataFrameGroupBy.apply operated on the grouping columns. This behavior is deprecated, and in a future version of pandas the grouping columns will be excluded from the operation. Either pass `include_groups=False` to exclude the groupings or explicitly select the grouping columns after groupby to silence this warning.\n",
      "  total_time_spent = df.groupby(['client_id','visitor_id', 'visit_id']).apply(calculate_time_diff).reset_index()\n"
     ]
    },
    {
     "data": {
      "text/html": [
       "<div>\n",
       "<style scoped>\n",
       "    .dataframe tbody tr th:only-of-type {\n",
       "        vertical-align: middle;\n",
       "    }\n",
       "\n",
       "    .dataframe tbody tr th {\n",
       "        vertical-align: top;\n",
       "    }\n",
       "\n",
       "    .dataframe thead th {\n",
       "        text-align: right;\n",
       "    }\n",
       "</style>\n",
       "<table border=\"1\" class=\"dataframe\">\n",
       "  <thead>\n",
       "    <tr style=\"text-align: right;\">\n",
       "      <th></th>\n",
       "      <th>client_id</th>\n",
       "      <th>visitor_id</th>\n",
       "      <th>visit_id</th>\n",
       "      <th>total_time_spent</th>\n",
       "    </tr>\n",
       "  </thead>\n",
       "  <tbody>\n",
       "    <tr>\n",
       "      <th>0</th>\n",
       "      <td>169</td>\n",
       "      <td>201385055_71273495308</td>\n",
       "      <td>749567106_99161211863_557568</td>\n",
       "      <td>0 days 00:03:33</td>\n",
       "    </tr>\n",
       "    <tr>\n",
       "      <th>1</th>\n",
       "      <td>336</td>\n",
       "      <td>64757908_3400128256</td>\n",
       "      <td>649044751_80905125055_554468</td>\n",
       "      <td>0 days 00:00:00</td>\n",
       "    </tr>\n",
       "    <tr>\n",
       "      <th>2</th>\n",
       "      <td>546</td>\n",
       "      <td>475037402_89828530214</td>\n",
       "      <td>731811517_9330176838_94847</td>\n",
       "      <td>0 days 00:02:13</td>\n",
       "    </tr>\n",
       "    <tr>\n",
       "      <th>3</th>\n",
       "      <td>555</td>\n",
       "      <td>402506806_56087378777</td>\n",
       "      <td>637149525_38041617439_716659</td>\n",
       "      <td>0 days 00:02:38</td>\n",
       "    </tr>\n",
       "    <tr>\n",
       "      <th>4</th>\n",
       "      <td>647</td>\n",
       "      <td>66758770_53988066587</td>\n",
       "      <td>40369564_40101682850_311847</td>\n",
       "      <td>0 days 00:06:17</td>\n",
       "    </tr>\n",
       "    <tr>\n",
       "      <th>5</th>\n",
       "      <td>722</td>\n",
       "      <td>919259913_64837298108</td>\n",
       "      <td>984487154_55831795985_521110</td>\n",
       "      <td>0 days 00:09:59</td>\n",
       "    </tr>\n",
       "    <tr>\n",
       "      <th>6</th>\n",
       "      <td>786</td>\n",
       "      <td>439747392_30293505155</td>\n",
       "      <td>640294664_79662229470_499394</td>\n",
       "      <td>0 days 00:05:12</td>\n",
       "    </tr>\n",
       "    <tr>\n",
       "      <th>7</th>\n",
       "      <td>805</td>\n",
       "      <td>831412807_82548325803</td>\n",
       "      <td>451173196_11661340552_563345</td>\n",
       "      <td>0 days 00:00:00</td>\n",
       "    </tr>\n",
       "    <tr>\n",
       "      <th>8</th>\n",
       "      <td>805</td>\n",
       "      <td>831412807_82548325803</td>\n",
       "      <td>72221519_52513154978_430287</td>\n",
       "      <td>0 days 00:00:00</td>\n",
       "    </tr>\n",
       "    <tr>\n",
       "      <th>9</th>\n",
       "      <td>805</td>\n",
       "      <td>831412807_82548325803</td>\n",
       "      <td>905546080_75813398358_250101</td>\n",
       "      <td>0 days 00:00:00</td>\n",
       "    </tr>\n",
       "    <tr>\n",
       "      <th>10</th>\n",
       "      <td>832</td>\n",
       "      <td>645971208_10952400740</td>\n",
       "      <td>704999523_65579948030_431837</td>\n",
       "      <td>0 days 00:02:14</td>\n",
       "    </tr>\n",
       "    <tr>\n",
       "      <th>11</th>\n",
       "      <td>934</td>\n",
       "      <td>810392784_45004760546</td>\n",
       "      <td>7076463_57954418406_971348</td>\n",
       "      <td>0 days 00:00:00</td>\n",
       "    </tr>\n",
       "    <tr>\n",
       "      <th>12</th>\n",
       "      <td>1028</td>\n",
       "      <td>42237450_62128060588</td>\n",
       "      <td>557292053_87239438319_391157</td>\n",
       "      <td>0 days 00:00:00</td>\n",
       "    </tr>\n",
       "    <tr>\n",
       "      <th>13</th>\n",
       "      <td>1039</td>\n",
       "      <td>637213403_33482244512</td>\n",
       "      <td>621771101_68048173682_933803</td>\n",
       "      <td>0 days 00:03:27</td>\n",
       "    </tr>\n",
       "    <tr>\n",
       "      <th>14</th>\n",
       "      <td>1104</td>\n",
       "      <td>194240915_18158000533</td>\n",
       "      <td>543158812_46395476577_767725</td>\n",
       "      <td>0 days 00:00:00</td>\n",
       "    </tr>\n",
       "    <tr>\n",
       "      <th>15</th>\n",
       "      <td>1104</td>\n",
       "      <td>194240915_18158000533</td>\n",
       "      <td>643221571_99977972121_69283</td>\n",
       "      <td>0 days 00:00:00</td>\n",
       "    </tr>\n",
       "    <tr>\n",
       "      <th>16</th>\n",
       "      <td>1186</td>\n",
       "      <td>446844663_31615102958</td>\n",
       "      <td>507052512_11309370126_442139</td>\n",
       "      <td>0 days 00:00:00</td>\n",
       "    </tr>\n",
       "    <tr>\n",
       "      <th>17</th>\n",
       "      <td>1186</td>\n",
       "      <td>446844663_31615102958</td>\n",
       "      <td>795373564_99931517312_810896</td>\n",
       "      <td>0 days 00:00:00</td>\n",
       "    </tr>\n",
       "    <tr>\n",
       "      <th>18</th>\n",
       "      <td>1195</td>\n",
       "      <td>766842522_69992551638</td>\n",
       "      <td>393817425_39015278493_996341</td>\n",
       "      <td>0 days 00:04:05</td>\n",
       "    </tr>\n",
       "    <tr>\n",
       "      <th>19</th>\n",
       "      <td>1197</td>\n",
       "      <td>753759429_54481946928</td>\n",
       "      <td>71862471_21202285428_848395</td>\n",
       "      <td>0 days 00:01:35</td>\n",
       "    </tr>\n",
       "  </tbody>\n",
       "</table>\n",
       "</div>"
      ],
      "text/plain": [
       "    client_id             visitor_id                      visit_id  \\\n",
       "0         169  201385055_71273495308  749567106_99161211863_557568   \n",
       "1         336    64757908_3400128256  649044751_80905125055_554468   \n",
       "2         546  475037402_89828530214    731811517_9330176838_94847   \n",
       "3         555  402506806_56087378777  637149525_38041617439_716659   \n",
       "4         647   66758770_53988066587   40369564_40101682850_311847   \n",
       "5         722  919259913_64837298108  984487154_55831795985_521110   \n",
       "6         786  439747392_30293505155  640294664_79662229470_499394   \n",
       "7         805  831412807_82548325803  451173196_11661340552_563345   \n",
       "8         805  831412807_82548325803   72221519_52513154978_430287   \n",
       "9         805  831412807_82548325803  905546080_75813398358_250101   \n",
       "10        832  645971208_10952400740  704999523_65579948030_431837   \n",
       "11        934  810392784_45004760546    7076463_57954418406_971348   \n",
       "12       1028   42237450_62128060588  557292053_87239438319_391157   \n",
       "13       1039  637213403_33482244512  621771101_68048173682_933803   \n",
       "14       1104  194240915_18158000533  543158812_46395476577_767725   \n",
       "15       1104  194240915_18158000533   643221571_99977972121_69283   \n",
       "16       1186  446844663_31615102958  507052512_11309370126_442139   \n",
       "17       1186  446844663_31615102958  795373564_99931517312_810896   \n",
       "18       1195  766842522_69992551638  393817425_39015278493_996341   \n",
       "19       1197  753759429_54481946928   71862471_21202285428_848395   \n",
       "\n",
       "   total_time_spent  \n",
       "0   0 days 00:03:33  \n",
       "1   0 days 00:00:00  \n",
       "2   0 days 00:02:13  \n",
       "3   0 days 00:02:38  \n",
       "4   0 days 00:06:17  \n",
       "5   0 days 00:09:59  \n",
       "6   0 days 00:05:12  \n",
       "7   0 days 00:00:00  \n",
       "8   0 days 00:00:00  \n",
       "9   0 days 00:00:00  \n",
       "10  0 days 00:02:14  \n",
       "11  0 days 00:00:00  \n",
       "12  0 days 00:00:00  \n",
       "13  0 days 00:03:27  \n",
       "14  0 days 00:00:00  \n",
       "15  0 days 00:00:00  \n",
       "16  0 days 00:00:00  \n",
       "17  0 days 00:00:00  \n",
       "18  0 days 00:04:05  \n",
       "19  0 days 00:01:35  "
      ]
     },
     "execution_count": 16,
     "metadata": {},
     "output_type": "execute_result"
    }
   ],
   "source": [
    "# Group by visit_id and apply the function\n",
    "def get_total_time_spent(df):\n",
    "    \"\"\"\n",
    "    This function groups the dataframe by visit_id, applies the calculate_time_diff function,\n",
    "    and returns a dataframe with visit_id and total_time_spent columns.\n",
    "    \"\"\"\n",
    "    total_time_spent = df.groupby(['client_id','visitor_id', 'visit_id']).apply(calculate_time_diff).reset_index()\n",
    "    total_time_spent.columns = ['client_id','visitor_id', 'visit_id', 'total_time_spent']\n",
    "    return total_time_spent.head(20)\n",
    "\n",
    "get_total_time_spent(df_web)"
   ]
  },
  {
   "cell_type": "code",
   "execution_count": 17,
   "metadata": {},
   "outputs": [
    {
     "name": "stderr",
     "output_type": "stream",
     "text": [
      "/var/folders/76/0pntsdld7bg_p5gzgms4gghw0000gn/T/ipykernel_81311/4174502837.py:7: DeprecationWarning: DataFrameGroupBy.apply operated on the grouping columns. This behavior is deprecated, and in a future version of pandas the grouping columns will be excluded from the operation. Either pass `include_groups=False` to exclude the groupings or explicitly select the grouping columns after groupby to silence this warning.\n",
      "  total_time_spent = df.groupby(['client_id','visitor_id', 'visit_id']).apply(calculate_time_diff).reset_index()\n"
     ]
    }
   ],
   "source": [
    "# save to a new DataFrame\n",
    "total_time_spent_df = get_total_time_spent(df_web)"
   ]
  },
  {
   "cell_type": "markdown",
   "metadata": {},
   "source": [
    "## Merge the time per session with Experiment table (Old and New Group)"
   ]
  },
  {
   "cell_type": "code",
   "execution_count": 18,
   "metadata": {},
   "outputs": [],
   "source": [
    "# Merge the DataFrames on the 'client_id' column\n",
    "total_time_spent_in_each_experiment = pd.merge(total_time_spent_df, df_experiment, on='client_id')"
   ]
  },
  {
   "cell_type": "code",
   "execution_count": 19,
   "metadata": {},
   "outputs": [
    {
     "data": {
      "text/html": [
       "<div>\n",
       "<style scoped>\n",
       "    .dataframe tbody tr th:only-of-type {\n",
       "        vertical-align: middle;\n",
       "    }\n",
       "\n",
       "    .dataframe tbody tr th {\n",
       "        vertical-align: top;\n",
       "    }\n",
       "\n",
       "    .dataframe thead th {\n",
       "        text-align: right;\n",
       "    }\n",
       "</style>\n",
       "<table border=\"1\" class=\"dataframe\">\n",
       "  <thead>\n",
       "    <tr style=\"text-align: right;\">\n",
       "      <th></th>\n",
       "      <th>client_id</th>\n",
       "      <th>visitor_id</th>\n",
       "      <th>visit_id</th>\n",
       "      <th>total_time_spent</th>\n",
       "      <th>variation</th>\n",
       "    </tr>\n",
       "  </thead>\n",
       "  <tbody>\n",
       "    <tr>\n",
       "      <th>0</th>\n",
       "      <td>555</td>\n",
       "      <td>402506806_56087378777</td>\n",
       "      <td>637149525_38041617439_716659</td>\n",
       "      <td>0 days 00:02:38</td>\n",
       "      <td>Test</td>\n",
       "    </tr>\n",
       "    <tr>\n",
       "      <th>1</th>\n",
       "      <td>647</td>\n",
       "      <td>66758770_53988066587</td>\n",
       "      <td>40369564_40101682850_311847</td>\n",
       "      <td>0 days 00:06:17</td>\n",
       "      <td>Test</td>\n",
       "    </tr>\n",
       "    <tr>\n",
       "      <th>2</th>\n",
       "      <td>934</td>\n",
       "      <td>810392784_45004760546</td>\n",
       "      <td>7076463_57954418406_971348</td>\n",
       "      <td>0 days 00:00:00</td>\n",
       "      <td>Test</td>\n",
       "    </tr>\n",
       "    <tr>\n",
       "      <th>3</th>\n",
       "      <td>1028</td>\n",
       "      <td>42237450_62128060588</td>\n",
       "      <td>557292053_87239438319_391157</td>\n",
       "      <td>0 days 00:00:00</td>\n",
       "      <td>Control</td>\n",
       "    </tr>\n",
       "    <tr>\n",
       "      <th>4</th>\n",
       "      <td>1104</td>\n",
       "      <td>194240915_18158000533</td>\n",
       "      <td>543158812_46395476577_767725</td>\n",
       "      <td>0 days 00:00:00</td>\n",
       "      <td>Control</td>\n",
       "    </tr>\n",
       "    <tr>\n",
       "      <th>5</th>\n",
       "      <td>1104</td>\n",
       "      <td>194240915_18158000533</td>\n",
       "      <td>643221571_99977972121_69283</td>\n",
       "      <td>0 days 00:00:00</td>\n",
       "      <td>Control</td>\n",
       "    </tr>\n",
       "    <tr>\n",
       "      <th>6</th>\n",
       "      <td>1186</td>\n",
       "      <td>446844663_31615102958</td>\n",
       "      <td>507052512_11309370126_442139</td>\n",
       "      <td>0 days 00:00:00</td>\n",
       "      <td>Control</td>\n",
       "    </tr>\n",
       "    <tr>\n",
       "      <th>7</th>\n",
       "      <td>1186</td>\n",
       "      <td>446844663_31615102958</td>\n",
       "      <td>795373564_99931517312_810896</td>\n",
       "      <td>0 days 00:00:00</td>\n",
       "      <td>Control</td>\n",
       "    </tr>\n",
       "    <tr>\n",
       "      <th>8</th>\n",
       "      <td>1195</td>\n",
       "      <td>766842522_69992551638</td>\n",
       "      <td>393817425_39015278493_996341</td>\n",
       "      <td>0 days 00:04:05</td>\n",
       "      <td>Control</td>\n",
       "    </tr>\n",
       "    <tr>\n",
       "      <th>9</th>\n",
       "      <td>1197</td>\n",
       "      <td>753759429_54481946928</td>\n",
       "      <td>71862471_21202285428_848395</td>\n",
       "      <td>0 days 00:01:35</td>\n",
       "      <td>Control</td>\n",
       "    </tr>\n",
       "  </tbody>\n",
       "</table>\n",
       "</div>"
      ],
      "text/plain": [
       "   client_id             visitor_id                      visit_id  \\\n",
       "0        555  402506806_56087378777  637149525_38041617439_716659   \n",
       "1        647   66758770_53988066587   40369564_40101682850_311847   \n",
       "2        934  810392784_45004760546    7076463_57954418406_971348   \n",
       "3       1028   42237450_62128060588  557292053_87239438319_391157   \n",
       "4       1104  194240915_18158000533  543158812_46395476577_767725   \n",
       "5       1104  194240915_18158000533   643221571_99977972121_69283   \n",
       "6       1186  446844663_31615102958  507052512_11309370126_442139   \n",
       "7       1186  446844663_31615102958  795373564_99931517312_810896   \n",
       "8       1195  766842522_69992551638  393817425_39015278493_996341   \n",
       "9       1197  753759429_54481946928   71862471_21202285428_848395   \n",
       "\n",
       "  total_time_spent variation  \n",
       "0  0 days 00:02:38      Test  \n",
       "1  0 days 00:06:17      Test  \n",
       "2  0 days 00:00:00      Test  \n",
       "3  0 days 00:00:00   Control  \n",
       "4  0 days 00:00:00   Control  \n",
       "5  0 days 00:00:00   Control  \n",
       "6  0 days 00:00:00   Control  \n",
       "7  0 days 00:00:00   Control  \n",
       "8  0 days 00:04:05   Control  \n",
       "9  0 days 00:01:35   Control  "
      ]
     },
     "execution_count": 19,
     "metadata": {},
     "output_type": "execute_result"
    }
   ],
   "source": [
    "# Display the merged DataFrame\n",
    "total_time_spent_in_each_experiment.head(20)"
   ]
  },
  {
   "cell_type": "markdown",
   "metadata": {},
   "source": [
    "## Bivariate : Categorical vs Continuous. \n",
    "Categorical vs Numerical Variable (category: Old/new design  vs time spent):"
   ]
  },
  {
   "cell_type": "markdown",
   "metadata": {},
   "source": [
    "### Violin Plots : Old/new design  vs time spent\n",
    "Combines a box plot with a kernel density plot to show the distribution of a continuous variable for each category."
   ]
  },
  {
   "cell_type": "code",
   "execution_count": 31,
   "metadata": {},
   "outputs": [
    {
     "name": "stderr",
     "output_type": "stream",
     "text": [
      "/var/folders/76/0pntsdld7bg_p5gzgms4gghw0000gn/T/ipykernel_81311/727220914.py:2: FutureWarning: \n",
      "\n",
      "Passing `palette` without assigning `hue` is deprecated and will be removed in v0.14.0. Assign the `x` variable to `hue` and set `legend=False` for the same effect.\n",
      "\n",
      "  sns.violinplot(data=total_time_spent_in_each_experiment, x='variation', y='total_time_spent', palette=\"coolwarm\")\n"
     ]
    },
    {
     "data": {
      "text/plain": [
       "<Axes: xlabel='variation', ylabel='total_time_spent'>"
      ]
     },
     "execution_count": 31,
     "metadata": {},
     "output_type": "execute_result"
    },
    {
     "data": {
      "image/png": "[encoded data removed]",
      "text/plain": [
       "<Figure size 640x480 with 1 Axes>"
      ]
     },
     "metadata": {},
     "output_type": "display_data"
    }
   ],
   "source": [
    "# Plotting a violin plot to visualize the distribution of 'SalePrice' for each 'MSZoning' category, using the \"coolwarm\" color palette\n",
    "sns.violinplot(data=total_time_spent_in_each_experiment, x='variation', y='total_time_spent', palette=\"coolwarm\")"
   ]
  },
  {
   "cell_type": "markdown",
   "metadata": {},
   "source": [
    "### Bar Charts : Old/new design  vs time spent\n",
    "Shows the mean (or another measure of central tendency) of the continuous variable for each category."
   ]
  },
  {
   "cell_type": "code",
   "execution_count": 25,
   "metadata": {},
   "outputs": [
    {
     "name": "stderr",
     "output_type": "stream",
     "text": [
      "/var/folders/76/0pntsdld7bg_p5gzgms4gghw0000gn/T/ipykernel_81311/411434747.py:2: FutureWarning: \n",
      "\n",
      "Passing `palette` without assigning `hue` is deprecated and will be removed in v0.14.0. Assign the `x` variable to `hue` and set `legend=False` for the same effect.\n",
      "\n",
      "  sns.barplot(data=total_time_spent_in_each_experiment, x='variation', y='total_time_spent', palette=\"coolwarm\")\n"
     ]
    },
    {
     "data": {
      "text/plain": [
       "<Axes: xlabel='variation', ylabel='total_time_spent'>"
      ]
     },
     "execution_count": 25,
     "metadata": {},
     "output_type": "execute_result"
    },
    {
     "data": {
      "image/png": "[encoded data removed]",
      "text/plain": [
       "<Figure size 640x480 with 1 Axes>"
      ]
     },
     "metadata": {},
     "output_type": "display_data"
    }
   ],
   "source": [
    "# Plotting a bar plot to visualize the average 'SalePrice' for each 'MSZoning' category, using the \"coolwarm\" color palette\n",
    "sns.barplot(data=total_time_spent_in_each_experiment, x='variation', y='total_time_spent', palette=\"coolwarm\")"
   ]
  },
  {
   "cell_type": "markdown",
   "metadata": {},
   "source": [
    "### Side by Side Box Plots: Old/new design  vs time spent\n",
    "\n",
    "Box plots are a great way to visualize the distribution of a continuous variable across different categories. They show the median, quartiles, and potential outliers, providing a quick snapshot of the data's spread and central tendency."
   ]
  },
  {
   "cell_type": "code",
   "execution_count": 26,
   "metadata": {},
   "outputs": [
    {
     "name": "stderr",
     "output_type": "stream",
     "text": [
      "/var/folders/76/0pntsdld7bg_p5gzgms4gghw0000gn/T/ipykernel_81311/1774017780.py:2: FutureWarning: \n",
      "\n",
      "Passing `palette` without assigning `hue` is deprecated and will be removed in v0.14.0. Assign the `x` variable to `hue` and set `legend=False` for the same effect.\n",
      "\n",
      "  sns.boxplot(data=total_time_spent_in_each_experiment, x='variation', y='total_time_spent', palette=\"coolwarm\")\n"
     ]
    },
    {
     "data": {
      "text/plain": [
       "<Axes: xlabel='variation', ylabel='total_time_spent'>"
      ]
     },
     "execution_count": 26,
     "metadata": {},
     "output_type": "execute_result"
    },
    {
     "data": {
      "image/png": "[encoded data removed]",
      "text/plain": [
       "<Figure size 640x480 with 1 Axes>"
      ]
     },
     "metadata": {},
     "output_type": "display_data"
    }
   ],
   "source": [
    "# Plotting a box plot to visualize the spread and outliers of 'SalePrice' for each 'MSZoning' category, using the \"coolwarm\" color palette\n",
    "sns.boxplot(data=total_time_spent_in_each_experiment, x='variation', y='total_time_spent', palette=\"coolwarm\")"
   ]
  },
  {
   "cell_type": "code",
   "execution_count": 32,
   "metadata": {},
   "outputs": [],
   "source": []
  },
  {
   "cell_type": "markdown",
   "metadata": {},
   "source": [
    "## Univariate (total time spent per each test)"
   ]
  },
  {
   "cell_type": "markdown",
   "metadata": {},
   "source": [
    "## Bar Chart"
   ]
  },
  {
   "cell_type": "code",
   "execution_count": 39,
   "metadata": {},
   "outputs": [],
   "source": [
    "import pandas as pd\n",
    "import seaborn as sns\n",
    "import matplotlib.pyplot as plt"
   ]
  },
  {
   "cell_type": "code",
   "execution_count": 40,
   "metadata": {},
   "outputs": [],
   "source": [
    "# Convert total_time_spent to total seconds\n",
    "total_time_spent_in_each_experiment['total_time_spent_seconds'] = total_time_spent_in_each_experiment['total_time_spent'].dt.total_seconds()"
   ]
  },
  {
   "cell_type": "code",
   "execution_count": 41,
   "metadata": {},
   "outputs": [
    {
     "name": "stderr",
     "output_type": "stream",
     "text": [
      "/var/folders/76/0pntsdld7bg_p5gzgms4gghw0000gn/T/ipykernel_81311/2947719121.py:4: FutureWarning: \n",
      "\n",
      "The `ci` parameter is deprecated. Use `errorbar=None` for the same effect.\n",
      "\n",
      "  sns.barplot(data=avg_total_time_spent, x='variation', y='total_time_spent_seconds', ci=None, palette=\"coolwarm\")\n",
      "/var/folders/76/0pntsdld7bg_p5gzgms4gghw0000gn/T/ipykernel_81311/2947719121.py:4: FutureWarning: \n",
      "\n",
      "Passing `palette` without assigning `hue` is deprecated and will be removed in v0.14.0. Assign the `x` variable to `hue` and set `legend=False` for the same effect.\n",
      "\n",
      "  sns.barplot(data=avg_total_time_spent, x='variation', y='total_time_spent_seconds', ci=None, palette=\"coolwarm\")\n"
     ]
    },
    {
     "data": {
      "image/png": "[encoded data removed]",
      "text/plain": [
       "<Figure size 1000x600 with 1 Axes>"
      ]
     },
     "metadata": {},
     "output_type": "display_data"
    }
   ],
   "source": [
    "# Bar Chart (Average Total Time Spent)\n",
    "plt.figure(figsize=(10, 6))\n",
    "avg_total_time_spent = total_time_spent_in_each_experiment.groupby('variation')['total_time_spent_seconds'].mean().reset_index()\n",
    "sns.barplot(data=avg_total_time_spent, x='variation', y='total_time_spent_seconds', ci=None, palette=\"coolwarm\")\n",
    "plt.title('Average Total Time Spent by Variation (Bar Chart)')\n",
    "plt.xlabel('Variation')\n",
    "plt.ylabel('Average Total Time Spent (seconds)')\n",
    "plt.show()"
   ]
  },
  {
   "cell_type": "code",
   "execution_count": 47,
   "metadata": {},
   "outputs": [
    {
     "data": {
      "image/png": "[encoded data removed]",
      "text/plain": [
       "<Figure size 1000x600 with 1 Axes>"
      ]
     },
     "metadata": {},
     "output_type": "display_data"
    },
    {
     "data": {
      "image/png": "[encoded data removed]",
      "text/plain": [
       "<Figure size 1000x600 with 1 Axes>"
      ]
     },
     "metadata": {},
     "output_type": "display_data"
    }
   ],
   "source": [
    "import matplotlib.pyplot as plt\n",
    "import seaborn as sns\n",
    "from scipy.stats import skew, kurtosis\n",
    "\n",
    "# Assuming total_time_spent_in_each_experiment is already defined and contains the merged data\n",
    "# Convert total_time_spent to total seconds if not already done\n",
    "total_time_spent_in_each_experiment['total_time_spent_seconds'] = total_time_spent_in_each_experiment['total_time_spent'].dt.total_seconds()\n",
    "\n",
    "# Split data into Test and Control groups\n",
    "test_group = total_time_spent_in_each_experiment[total_time_spent_in_each_experiment['variation'] == 'Test']\n",
    "control_group = total_time_spent_in_each_experiment[total_time_spent_in_each_experiment['variation'] == 'Control']\n",
    "\n",
    "# Calculate skewness and kurtosis for Test group\n",
    "skewness_test = skew(test_group['total_time_spent_seconds'].dropna())\n",
    "kurt_test = kurtosis(test_group['total_time_spent_seconds'].dropna())\n",
    "\n",
    "# Calculate skewness and kurtosis for Control group\n",
    "skewness_control = skew(control_group['total_time_spent_seconds'].dropna())\n",
    "kurt_control = kurtosis(control_group['total_time_spent_seconds'].dropna())\n",
    "\n",
    "# Plotting the histogram for Test group\n",
    "plt.figure(figsize=(10, 6))\n",
    "sns.histplot(test_group['total_time_spent_seconds'], bins=30, kde=True)\n",
    "\n",
    "# Adding skewness and kurtosis to the plot for Test group\n",
    "plt.axvline(test_group['total_time_spent_seconds'].mean(), color='r', linestyle='dashed', linewidth=1)\n",
    "min_ylim, max_ylim = plt.ylim()\n",
    "plt.text(test_group['total_time_spent_seconds'].mean()*1.1, max_ylim*0.9, 'Mean: {:.2f}'.format(test_group['total_time_spent_seconds'].mean()))\n",
    "plt.text(test_group['total_time_spent_seconds'].mean()*1.1, max_ylim*0.8, 'Skewness: {:.2f}'.format(skewness_test))\n",
    "plt.text(test_group['total_time_spent_seconds'].mean()*1.1, max_ylim*0.7, 'Kurtosis: {:.2f}'.format(kurt_test))\n",
    "\n",
    "plt.title('Histogram of Total Time Spent (seconds) - Test Group')\n",
    "plt.xlabel('Total Time Spent (seconds)')\n",
    "plt.ylabel('Count')\n",
    "plt.show()\n",
    "\n",
    "# Plotting the histogram for Control group\n",
    "plt.figure(figsize=(10, 6))\n",
    "sns.histplot(control_group['total_time_spent_seconds'], bins=30, kde=True)\n",
    "\n",
    "# Adding skewness and kurtosis to the plot for Control group\n",
    "plt.axvline(control_group['total_time_spent_seconds'].mean(), color='r', linestyle='dashed', linewidth=1)\n",
    "min_ylim, max_ylim = plt.ylim()\n",
    "plt.text(control_group['total_time_spent_seconds'].mean()*1.1, max_ylim*0.9, 'Mean: {:.2f}'.format(control_group['total_time_spent_seconds'].mean()))\n",
    "plt.text(control_group['total_time_spent_seconds'].mean()*1.1, max_ylim*0.8, 'Skewness: {:.2f}'.format(skewness_control))\n",
    "plt.text(control_group['total_time_spent_seconds'].mean()*1.1, max_ylim*0.7, 'Kurtosis: {:.2f}'.format(kurt_control))\n",
    "\n",
    "plt.title('Histogram of Total Time Spent (seconds) - Control Group')\n",
    "plt.xlabel('Total Time Spent (seconds)')\n",
    "plt.ylabel('Count')\n",
    "plt.show()"
   ]
  },
  {
   "cell_type": "markdown",
   "metadata": {},
   "source": [
    "## Summary:\n",
    "### Average Time Spent:\n",
    "Users in the Test group spent significantly more time on average (178.33 seconds) compared to the Control group (48.57 seconds).\n",
    "\n",
    "### Distribution Shape:\n",
    "\n",
    "The Test group has a more symmetric distribution of time spent, whereas the Control group is heavily skewed to the right.\n",
    "\n",
    "### Extreme Values:\n",
    "\n",
    "The Control group has more extreme values (higher skewness and kurtosis) compared to the Test group, which indicates a few users spent significantly more time than others."
   ]
  },
  {
   "cell_type": "markdown",
   "metadata": {},
   "source": [
    "# Hypothesis testing\n"
   ]
  },
  {
   "cell_type": "code",
   "execution_count": 49,
   "metadata": {},
   "outputs": [],
   "source": [
    "import pandas as pd\n",
    "import numpy as np\n",
    "from scipy.stats import ttest_ind"
   ]
  },
  {
   "cell_type": "code",
   "execution_count": 51,
   "metadata": {},
   "outputs": [
    {
     "name": "stdout",
     "output_type": "stream",
     "text": [
      "  variation          total_time_spent\n",
      "0   Control 0 days 00:00:48.571428571\n",
      "1      Test 0 days 00:02:58.333333333\n"
     ]
    }
   ],
   "source": [
    "# Calculate mean time to completion for Test and Control groups\n",
    "mean_time_to_completion = total_time_spent_in_each_experiment.groupby('variation')['total_time_spent'].mean().reset_index()\n",
    "print(mean_time_to_completion)"
   ]
  },
  {
   "cell_type": "code",
   "execution_count": 53,
   "metadata": {},
   "outputs": [
    {
     "ename": "ValueError",
     "evalue": "data type <class 'numpy.timedelta64'> not inexact",
     "output_type": "error",
     "traceback": [
      "\u001b[0;31m---------------------------------------------------------------------------\u001b[0m",
      "\u001b[0;31mValueError\u001b[0m                                Traceback (most recent call last)",
      "Cell \u001b[0;32mIn[53], line 6\u001b[0m\n\u001b[1;32m      3\u001b[0m control_group \u001b[38;5;241m=\u001b[39m total_time_spent_in_each_experiment[total_time_spent_in_each_experiment[\u001b[38;5;124m'\u001b[39m\u001b[38;5;124mvariation\u001b[39m\u001b[38;5;124m'\u001b[39m] \u001b[38;5;241m==\u001b[39m \u001b[38;5;124m'\u001b[39m\u001b[38;5;124mControl\u001b[39m\u001b[38;5;124m'\u001b[39m][\u001b[38;5;124m'\u001b[39m\u001b[38;5;124mtotal_time_spent\u001b[39m\u001b[38;5;124m'\u001b[39m]\u001b[38;5;241m.\u001b[39mdropna()\n\u001b[1;32m      5\u001b[0m \u001b[38;5;66;03m# Perform independent t-test\u001b[39;00m\n\u001b[0;32m----> 6\u001b[0m t_stat, p_value \u001b[38;5;241m=\u001b[39m \u001b[43mttest_ind\u001b[49m\u001b[43m(\u001b[49m\u001b[43mtest_group\u001b[49m\u001b[43m,\u001b[49m\u001b[43m \u001b[49m\u001b[43mcontrol_group\u001b[49m\u001b[43m,\u001b[49m\u001b[43m \u001b[49m\u001b[43mequal_var\u001b[49m\u001b[38;5;241;43m=\u001b[39;49m\u001b[38;5;28;43;01mFalse\u001b[39;49;00m\u001b[43m)\u001b[49m  \u001b[38;5;66;03m# Using Welch's t-test which does not assume equal variance\u001b[39;00m\n\u001b[1;32m      7\u001b[0m \u001b[38;5;28mprint\u001b[39m(\u001b[38;5;124mf\u001b[39m\u001b[38;5;124m\"\u001b[39m\u001b[38;5;124mT-Statistic: \u001b[39m\u001b[38;5;132;01m{\u001b[39;00mt_stat\u001b[38;5;132;01m}\u001b[39;00m\u001b[38;5;124m, P-Value: \u001b[39m\u001b[38;5;132;01m{\u001b[39;00mp_value\u001b[38;5;132;01m}\u001b[39;00m\u001b[38;5;124m\"\u001b[39m)\n\u001b[1;32m      9\u001b[0m \u001b[38;5;66;03m# Check if p_value is less than significance level (e.g., 0.05)\u001b[39;00m\n",
      "File \u001b[0;32m/opt/anaconda3/envs/myenv/lib/python3.12/site-packages/scipy/stats/_axis_nan_policy.py:531\u001b[0m, in \u001b[0;36m_axis_nan_policy_factory.<locals>.axis_nan_policy_decorator.<locals>.axis_nan_policy_wrapper\u001b[0;34m(***failed resolving arguments***)\u001b[0m\n\u001b[1;32m    529\u001b[0m \u001b[38;5;28;01mif\u001b[39;00m sentinel:\n\u001b[1;32m    530\u001b[0m     samples \u001b[38;5;241m=\u001b[39m _remove_sentinel(samples, paired, sentinel)\n\u001b[0;32m--> 531\u001b[0m res \u001b[38;5;241m=\u001b[39m \u001b[43mhypotest_fun_out\u001b[49m\u001b[43m(\u001b[49m\u001b[38;5;241;43m*\u001b[39;49m\u001b[43msamples\u001b[49m\u001b[43m,\u001b[49m\u001b[43m \u001b[49m\u001b[38;5;241;43m*\u001b[39;49m\u001b[38;5;241;43m*\u001b[39;49m\u001b[43mkwds\u001b[49m\u001b[43m)\u001b[49m\n\u001b[1;32m    532\u001b[0m res \u001b[38;5;241m=\u001b[39m result_to_tuple(res)\n\u001b[1;32m    533\u001b[0m res \u001b[38;5;241m=\u001b[39m _add_reduced_axes(res, reduced_axes, keepdims)\n",
      "File \u001b[0;32m/opt/anaconda3/envs/myenv/lib/python3.12/site-packages/scipy/stats/_stats_py.py:7377\u001b[0m, in \u001b[0;36mttest_ind\u001b[0;34m(a, b, axis, equal_var, nan_policy, permutations, random_state, alternative, trim)\u001b[0m\n\u001b[1;32m   7375\u001b[0m     old_errstate \u001b[38;5;241m=\u001b[39m np\u001b[38;5;241m.\u001b[39mgeterr()\n\u001b[1;32m   7376\u001b[0m     np\u001b[38;5;241m.\u001b[39mseterr(divide\u001b[38;5;241m=\u001b[39m\u001b[38;5;124m'\u001b[39m\u001b[38;5;124mignore\u001b[39m\u001b[38;5;124m'\u001b[39m, invalid\u001b[38;5;241m=\u001b[39m\u001b[38;5;124m'\u001b[39m\u001b[38;5;124mignore\u001b[39m\u001b[38;5;124m'\u001b[39m)\n\u001b[0;32m-> 7377\u001b[0m v1 \u001b[38;5;241m=\u001b[39m \u001b[43m_var\u001b[49m\u001b[43m(\u001b[49m\u001b[43ma\u001b[49m\u001b[43m,\u001b[49m\u001b[43m \u001b[49m\u001b[43maxis\u001b[49m\u001b[43m,\u001b[49m\u001b[43m \u001b[49m\u001b[43mddof\u001b[49m\u001b[38;5;241;43m=\u001b[39;49m\u001b[38;5;241;43m1\u001b[39;49m\u001b[43m)\u001b[49m\n\u001b[1;32m   7378\u001b[0m v2 \u001b[38;5;241m=\u001b[39m _var(b, axis, ddof\u001b[38;5;241m=\u001b[39m\u001b[38;5;241m1\u001b[39m)\n\u001b[1;32m   7379\u001b[0m \u001b[38;5;28;01mif\u001b[39;00m equal_var:\n",
      "File \u001b[0;32m/opt/anaconda3/envs/myenv/lib/python3.12/site-packages/scipy/stats/_stats_py.py:1084\u001b[0m, in \u001b[0;36m_var\u001b[0;34m(x, axis, ddof, mean)\u001b[0m\n\u001b[1;32m   1082\u001b[0m \u001b[38;5;28;01mdef\u001b[39;00m \u001b[38;5;21m_var\u001b[39m(x, axis\u001b[38;5;241m=\u001b[39m\u001b[38;5;241m0\u001b[39m, ddof\u001b[38;5;241m=\u001b[39m\u001b[38;5;241m0\u001b[39m, mean\u001b[38;5;241m=\u001b[39m\u001b[38;5;28;01mNone\u001b[39;00m):\n\u001b[1;32m   1083\u001b[0m     \u001b[38;5;66;03m# Calculate variance of sample, warning if precision is lost\u001b[39;00m\n\u001b[0;32m-> 1084\u001b[0m     var \u001b[38;5;241m=\u001b[39m \u001b[43m_moment\u001b[49m\u001b[43m(\u001b[49m\u001b[43mx\u001b[49m\u001b[43m,\u001b[49m\u001b[43m \u001b[49m\u001b[38;5;241;43m2\u001b[39;49m\u001b[43m,\u001b[49m\u001b[43m \u001b[49m\u001b[43maxis\u001b[49m\u001b[43m,\u001b[49m\u001b[43m \u001b[49m\u001b[43mmean\u001b[49m\u001b[38;5;241;43m=\u001b[39;49m\u001b[43mmean\u001b[49m\u001b[43m)\u001b[49m\n\u001b[1;32m   1085\u001b[0m     \u001b[38;5;28;01mif\u001b[39;00m ddof \u001b[38;5;241m!=\u001b[39m \u001b[38;5;241m0\u001b[39m:\n\u001b[1;32m   1086\u001b[0m         n \u001b[38;5;241m=\u001b[39m x\u001b[38;5;241m.\u001b[39mshape[axis] \u001b[38;5;28;01mif\u001b[39;00m axis \u001b[38;5;129;01mis\u001b[39;00m \u001b[38;5;129;01mnot\u001b[39;00m \u001b[38;5;28;01mNone\u001b[39;00m \u001b[38;5;28;01melse\u001b[39;00m x\u001b[38;5;241m.\u001b[39msize\n",
      "File \u001b[0;32m/opt/anaconda3/envs/myenv/lib/python3.12/site-packages/scipy/stats/_stats_py.py:1056\u001b[0m, in \u001b[0;36m_moment\u001b[0;34m(a, moment, axis, mean)\u001b[0m\n\u001b[1;32m   1052\u001b[0m mean \u001b[38;5;241m=\u001b[39m (a\u001b[38;5;241m.\u001b[39mmean(axis, keepdims\u001b[38;5;241m=\u001b[39m\u001b[38;5;28;01mTrue\u001b[39;00m) \u001b[38;5;28;01mif\u001b[39;00m mean \u001b[38;5;129;01mis\u001b[39;00m \u001b[38;5;28;01mNone\u001b[39;00m\n\u001b[1;32m   1053\u001b[0m         \u001b[38;5;28;01melse\u001b[39;00m np\u001b[38;5;241m.\u001b[39masarray(mean, dtype\u001b[38;5;241m=\u001b[39mdtype)[()])\n\u001b[1;32m   1054\u001b[0m a_zero_mean \u001b[38;5;241m=\u001b[39m a \u001b[38;5;241m-\u001b[39m mean\n\u001b[0;32m-> 1056\u001b[0m eps \u001b[38;5;241m=\u001b[39m \u001b[43mnp\u001b[49m\u001b[38;5;241;43m.\u001b[39;49m\u001b[43mfinfo\u001b[49m\u001b[43m(\u001b[49m\u001b[43ma_zero_mean\u001b[49m\u001b[38;5;241;43m.\u001b[39;49m\u001b[43mdtype\u001b[49m\u001b[43m)\u001b[49m\u001b[38;5;241m.\u001b[39mresolution \u001b[38;5;241m*\u001b[39m \u001b[38;5;241m10\u001b[39m\n\u001b[1;32m   1057\u001b[0m \u001b[38;5;28;01mwith\u001b[39;00m np\u001b[38;5;241m.\u001b[39merrstate(divide\u001b[38;5;241m=\u001b[39m\u001b[38;5;124m'\u001b[39m\u001b[38;5;124mignore\u001b[39m\u001b[38;5;124m'\u001b[39m, invalid\u001b[38;5;241m=\u001b[39m\u001b[38;5;124m'\u001b[39m\u001b[38;5;124mignore\u001b[39m\u001b[38;5;124m'\u001b[39m):\n\u001b[1;32m   1058\u001b[0m     rel_diff \u001b[38;5;241m=\u001b[39m np\u001b[38;5;241m.\u001b[39mmax(np\u001b[38;5;241m.\u001b[39mabs(a_zero_mean), axis\u001b[38;5;241m=\u001b[39maxis,\n\u001b[1;32m   1059\u001b[0m                       keepdims\u001b[38;5;241m=\u001b[39m\u001b[38;5;28;01mTrue\u001b[39;00m) \u001b[38;5;241m/\u001b[39m np\u001b[38;5;241m.\u001b[39mabs(mean)\n",
      "File \u001b[0;32m/opt/anaconda3/envs/myenv/lib/python3.12/site-packages/numpy/core/getlimits.py:516\u001b[0m, in \u001b[0;36mfinfo.__new__\u001b[0;34m(cls, dtype)\u001b[0m\n\u001b[1;32m    514\u001b[0m     dtype \u001b[38;5;241m=\u001b[39m newdtype\n\u001b[1;32m    515\u001b[0m \u001b[38;5;28;01mif\u001b[39;00m \u001b[38;5;129;01mnot\u001b[39;00m \u001b[38;5;28missubclass\u001b[39m(dtype, numeric\u001b[38;5;241m.\u001b[39minexact):\n\u001b[0;32m--> 516\u001b[0m     \u001b[38;5;28;01mraise\u001b[39;00m \u001b[38;5;167;01mValueError\u001b[39;00m(\u001b[38;5;124m\"\u001b[39m\u001b[38;5;124mdata type \u001b[39m\u001b[38;5;132;01m%r\u001b[39;00m\u001b[38;5;124m not inexact\u001b[39m\u001b[38;5;124m\"\u001b[39m \u001b[38;5;241m%\u001b[39m (dtype))\n\u001b[1;32m    517\u001b[0m obj \u001b[38;5;241m=\u001b[39m \u001b[38;5;28mcls\u001b[39m\u001b[38;5;241m.\u001b[39m_finfo_cache\u001b[38;5;241m.\u001b[39mget(dtype)\n\u001b[1;32m    518\u001b[0m \u001b[38;5;28;01mif\u001b[39;00m obj \u001b[38;5;129;01mis\u001b[39;00m \u001b[38;5;129;01mnot\u001b[39;00m \u001b[38;5;28;01mNone\u001b[39;00m:\n",
      "\u001b[0;31mValueError\u001b[0m: data type <class 'numpy.timedelta64'> not inexact"
     ]
    }
   ],
   "source": [
    "# Separate the data into Test and Control groups\n",
    "test_group = total_time_spent_in_each_experiment[total_time_spent_in_each_experiment['variation'] == 'Test']['total_time_spent'].dropna()\n",
    "control_group = total_time_spent_in_each_experiment[total_time_spent_in_each_experiment['variation'] == 'Control']['total_time_spent'].dropna()\n",
    "\n",
    "# Perform independent t-test\n",
    "t_stat, p_value = ttest_ind(test_group, control_group, equal_var=False)  # Using Welch's t-test which does not assume equal variance\n",
    "print(f\"T-Statistic: {t_stat}, P-Value: {p_value}\")\n",
    "\n",
    "# Check if p_value is less than significance level (e.g., 0.05)\n",
    "if p_value < 0.05:\n",
    "    print(\"Reject the null hypothesis: The mean time to completion is different between Test and Control groups.\")\n",
    "else:\n",
    "    print(\"Fail to reject the null hypothesis: The mean time to completion is not significantly different between Test and Control groups.\")"
   ]
  },
  {
   "cell_type": "markdown",
   "metadata": {},
   "source": [
    "test_group = total_time_spent_in_each_experiment[total_time_spent_in_each_experiment['variation'] == 'Test']['time_spent_per_step'].dropna()\n",
    "control_group = total_time_spent_in_each_experiment[total_time_spent_in_each_experiment['variation'] == 'Control']['time_spent_per_step'].dropna()"
   ]
  }
 ],
 "metadata": {
  "kernelspec": {
   "display_name": "myenv",
   "language": "python",
   "name": "python3"
  },
  "language_info": {
   "codemirror_mode": {
    "name": "ipython",
    "version": 3
   },
   "file_extension": ".py",
   "mimetype": "text/x-python",
   "name": "python",
   "nbconvert_exporter": "python",
   "pygments_lexer": "ipython3",
   "version": "3.12.2"
  }
 },
 "nbformat": 4,
 "nbformat_minor": 2
}
